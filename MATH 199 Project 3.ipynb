{
 "cells": [
  {
   "cell_type": "code",
   "execution_count": 265,
   "metadata": {},
   "outputs": [],
   "source": [
    "import pandas as pd\n",
    "import numpy as np\n",
    "import matplotlib.pyplot as plt\n",
    "from scipy import stats\n",
    "from datetime import date\n",
    "import random\n",
    "from sklearn.cluster import KMeans"
   ]
  },
  {
   "cell_type": "code",
   "execution_count": 280,
   "metadata": {},
   "outputs": [
    {
     "name": "stdout",
     "output_type": "stream",
     "text": [
      "[11 13]\n"
     ]
    }
   ],
   "source": [
    "#Generate random dates\n",
    "#Source: https://www.w3resource.com/python-exercises/math/python-math-exercise-74.php\n",
    "def generateDate():\n",
    "    dataListGen=[]\n",
    "    start_dt = date.today().replace(day=1, month=1).toordinal()\n",
    "    end_dt = date.today().toordinal()\n",
    "    random_day = date.fromordinal(random.randint(start_dt, end_dt))\n",
    "    return np.array([random_day.month, random_day.day])\n",
    "print(generateDate())\n",
    "monthListComputer = np.zeros(length)\n",
    "dayListComputer = np.zeros(length)\n",
    "for i in range(0,length):\n",
    "    monthListComputer[i] = generateDate()[0]\n",
    "    dayListComputer[i] = generateDate()[1]\n",
    "\n",
    "randomDateComputer=[]\n",
    "for i in range(0,100000,1):\n",
    "    randomDateComputer.append(str(int(generateDate()[0]))+\"-\"+str(int(generateDate()[1])))\n",
    "\n",
    "    \n",
    "\n",
    "\n"
   ]
  },
  {
   "cell_type": "code",
   "execution_count": 256,
   "metadata": {},
   "outputs": [],
   "source": [
    "#Create list of class dates \n",
    "dateListClass=[]\n",
    "csvDict= dict((pd.read_csv(\"random-date-experiment-results-anonymized.csv\")))\n",
    "for i in csvDict:\n",
    "    dateListClass.append(i)\n",
    "    for x in csvDict[i]:\n",
    "        if(\"-\" in x):\n",
    "            dateListClass.append(x)\n",
    "length = len(dateListClass)\n",
    "\n",
    "#split class dates into month and day lists\n",
    "monthListClass=np.zeros(len(dateListClass))\n",
    "dayListClass=np.zeros(len(dateListClass))\n",
    "for x in range(0,len(dateListClass),1):\n",
    "    date = dateListClass[x]\n",
    "    monthListClass[x]=int(date[0:date.index(\"-\")])\n",
    "    dayListClass[x]=int(date[date.index(\"-\") + 1:len(date)])\n"
   ]
  },
  {
   "cell_type": "code",
   "execution_count": 279,
   "metadata": {},
   "outputs": [
    {
     "data": {
      "text/html": [
       "<div>\n",
       "<style scoped>\n",
       "    .dataframe tbody tr th:only-of-type {\n",
       "        vertical-align: middle;\n",
       "    }\n",
       "\n",
       "    .dataframe tbody tr th {\n",
       "        vertical-align: top;\n",
       "    }\n",
       "\n",
       "    .dataframe thead th {\n",
       "        text-align: right;\n",
       "    }\n",
       "</style>\n",
       "<table border=\"1\" class=\"dataframe\">\n",
       "  <thead>\n",
       "    <tr style=\"text-align: right;\">\n",
       "      <th></th>\n",
       "      <th>06-20</th>\n",
       "      <th>11-23</th>\n",
       "      <th>09-06</th>\n",
       "      <th>07-31</th>\n",
       "      <th>01-27</th>\n",
       "      <th>03-11</th>\n",
       "      <th>05-05</th>\n",
       "      <th>04-21</th>\n",
       "      <th>12-16</th>\n",
       "      <th>10-15</th>\n",
       "      <th>02-04</th>\n",
       "      <th>03-08</th>\n",
       "      <th>11-10</th>\n",
       "      <th>12-21</th>\n",
       "      <th>08-26</th>\n",
       "      <th>05-13</th>\n",
       "      <th>09-21</th>\n",
       "      <th>06-14</th>\n",
       "      <th>02-18</th>\n",
       "      <th>11-28</th>\n",
       "    </tr>\n",
       "  </thead>\n",
       "  <tbody>\n",
       "    <tr>\n",
       "      <th>0</th>\n",
       "      <td>09-20</td>\n",
       "      <td>11-03</td>\n",
       "      <td>06-02</td>\n",
       "      <td>03-08</td>\n",
       "      <td>06-11</td>\n",
       "      <td>08-27</td>\n",
       "      <td>09-07</td>\n",
       "      <td>11-21</td>\n",
       "      <td>12-16</td>\n",
       "      <td>04-30</td>\n",
       "      <td>08-09</td>\n",
       "      <td>03-31</td>\n",
       "      <td>07-22</td>\n",
       "      <td>02-03</td>\n",
       "      <td>08-19</td>\n",
       "      <td>01-10</td>\n",
       "      <td>10-06</td>\n",
       "      <td>10-20</td>\n",
       "      <td>05-14</td>\n",
       "      <td>10-09</td>\n",
       "    </tr>\n",
       "    <tr>\n",
       "      <th>1</th>\n",
       "      <td>01-01</td>\n",
       "      <td>07-15</td>\n",
       "      <td>08-26</td>\n",
       "      <td>09-16</td>\n",
       "      <td>02-14</td>\n",
       "      <td>06-06</td>\n",
       "      <td>11-01</td>\n",
       "      <td>04-23</td>\n",
       "      <td>04-20</td>\n",
       "      <td>09-10</td>\n",
       "      <td>03-17</td>\n",
       "      <td>08-13</td>\n",
       "      <td>11-11</td>\n",
       "      <td>12-11</td>\n",
       "      <td>01-22</td>\n",
       "      <td>08-08</td>\n",
       "      <td>06-30</td>\n",
       "      <td>07-31</td>\n",
       "      <td>04-07</td>\n",
       "      <td>10-02</td>\n",
       "    </tr>\n",
       "    <tr>\n",
       "      <th>2</th>\n",
       "      <td>05-11</td>\n",
       "      <td>01-21</td>\n",
       "      <td>02-07</td>\n",
       "      <td>10-20</td>\n",
       "      <td>07-08</td>\n",
       "      <td>06-03</td>\n",
       "      <td>05-13</td>\n",
       "      <td>09-17</td>\n",
       "      <td>12-11</td>\n",
       "      <td>08-24</td>\n",
       "      <td>04-22</td>\n",
       "      <td>04-01</td>\n",
       "      <td>11-15</td>\n",
       "      <td>06-10</td>\n",
       "      <td>03-24</td>\n",
       "      <td>12-16</td>\n",
       "      <td>07-13</td>\n",
       "      <td>11-30</td>\n",
       "      <td>01-07</td>\n",
       "      <td>08-13</td>\n",
       "    </tr>\n",
       "    <tr>\n",
       "      <th>3</th>\n",
       "      <td>04-26</td>\n",
       "      <td>09-10</td>\n",
       "      <td>01-22</td>\n",
       "      <td>05-07</td>\n",
       "      <td>06-15</td>\n",
       "      <td>10-01</td>\n",
       "      <td>12-28</td>\n",
       "      <td>02-01</td>\n",
       "      <td>06-18</td>\n",
       "      <td>09-27</td>\n",
       "      <td>03-15</td>\n",
       "      <td>04-10</td>\n",
       "      <td>11-06</td>\n",
       "      <td>07-13</td>\n",
       "      <td>10-08</td>\n",
       "      <td>08-23</td>\n",
       "      <td>06-01</td>\n",
       "      <td>04-29</td>\n",
       "      <td>01-15</td>\n",
       "      <td>12-12</td>\n",
       "    </tr>\n",
       "    <tr>\n",
       "      <th>4</th>\n",
       "      <td>01-13</td>\n",
       "      <td>08-29</td>\n",
       "      <td>02-21</td>\n",
       "      <td>05-02</td>\n",
       "      <td>08-30</td>\n",
       "      <td>12-09</td>\n",
       "      <td>02-18</td>\n",
       "      <td>09-03</td>\n",
       "      <td>05-15</td>\n",
       "      <td>06-01</td>\n",
       "      <td>03-27</td>\n",
       "      <td>04-12</td>\n",
       "      <td>11-24</td>\n",
       "      <td>07-29</td>\n",
       "      <td>01-08</td>\n",
       "      <td>12-11</td>\n",
       "      <td>09-08</td>\n",
       "      <td>03-20</td>\n",
       "      <td>07-31</td>\n",
       "      <td>02-23</td>\n",
       "    </tr>\n",
       "    <tr>\n",
       "      <th>5</th>\n",
       "      <td>07-09</td>\n",
       "      <td>12-15</td>\n",
       "      <td>04-03</td>\n",
       "      <td>05-07</td>\n",
       "      <td>08-09</td>\n",
       "      <td>01-07</td>\n",
       "      <td>08-10</td>\n",
       "      <td>05-19</td>\n",
       "      <td>07-17</td>\n",
       "      <td>03-21</td>\n",
       "      <td>12-31</td>\n",
       "      <td>02-28</td>\n",
       "      <td>06-17</td>\n",
       "      <td>09-22</td>\n",
       "      <td>02-14</td>\n",
       "      <td>08-15</td>\n",
       "      <td>11-17</td>\n",
       "      <td>12-01</td>\n",
       "      <td>04-29</td>\n",
       "      <td>04-04</td>\n",
       "    </tr>\n",
       "    <tr>\n",
       "      <th>6</th>\n",
       "      <td>03-23</td>\n",
       "      <td>05-07</td>\n",
       "      <td>02-14</td>\n",
       "      <td>11-29</td>\n",
       "      <td>11-17</td>\n",
       "      <td>01-05</td>\n",
       "      <td>04-22</td>\n",
       "      <td>12-02</td>\n",
       "      <td>07-31</td>\n",
       "      <td>06-26</td>\n",
       "      <td>12-06</td>\n",
       "      <td>07-14</td>\n",
       "      <td>08-31</td>\n",
       "      <td>05-26</td>\n",
       "      <td>02-22</td>\n",
       "      <td>04-05</td>\n",
       "      <td>08-28</td>\n",
       "      <td>11-01</td>\n",
       "      <td>01-20</td>\n",
       "      <td>07-27</td>\n",
       "    </tr>\n",
       "    <tr>\n",
       "      <th>7</th>\n",
       "      <td>06-21</td>\n",
       "      <td>01-01</td>\n",
       "      <td>04-30</td>\n",
       "      <td>05-30</td>\n",
       "      <td>11-24</td>\n",
       "      <td>12-25</td>\n",
       "      <td>10-03</td>\n",
       "      <td>01-20</td>\n",
       "      <td>04-19</td>\n",
       "      <td>04-12</td>\n",
       "      <td>05-18</td>\n",
       "      <td>09-26</td>\n",
       "      <td>09-16</td>\n",
       "      <td>03-01</td>\n",
       "      <td>08-16</td>\n",
       "      <td>07-04</td>\n",
       "      <td>05-25</td>\n",
       "      <td>12-01</td>\n",
       "      <td>01-12</td>\n",
       "      <td>02-15</td>\n",
       "    </tr>\n",
       "    <tr>\n",
       "      <th>8</th>\n",
       "      <td>01-07</td>\n",
       "      <td>10-14</td>\n",
       "      <td>09-30</td>\n",
       "      <td>02-02</td>\n",
       "      <td>07-17</td>\n",
       "      <td>09-13</td>\n",
       "      <td>07-03</td>\n",
       "      <td>02-26</td>\n",
       "      <td>12-12</td>\n",
       "      <td>10-31</td>\n",
       "      <td>04-24</td>\n",
       "      <td>09-09</td>\n",
       "      <td>12-01</td>\n",
       "      <td>06-17</td>\n",
       "      <td>07-09</td>\n",
       "      <td>04-13</td>\n",
       "      <td>02-19</td>\n",
       "      <td>07-07</td>\n",
       "      <td>08-29</td>\n",
       "      <td>11-12</td>\n",
       "    </tr>\n",
       "    <tr>\n",
       "      <th>9</th>\n",
       "      <td>07-13</td>\n",
       "      <td>04-12</td>\n",
       "      <td>04-05</td>\n",
       "      <td>05-28</td>\n",
       "      <td>01-22</td>\n",
       "      <td>12-21</td>\n",
       "      <td>03-21</td>\n",
       "      <td>04-15</td>\n",
       "      <td>10-27</td>\n",
       "      <td>05-05</td>\n",
       "      <td>09-13</td>\n",
       "      <td>05-30</td>\n",
       "      <td>06-18</td>\n",
       "      <td>11-09</td>\n",
       "      <td>02-08</td>\n",
       "      <td>12-26</td>\n",
       "      <td>08-31</td>\n",
       "      <td>05-09</td>\n",
       "      <td>01-02</td>\n",
       "      <td>01-14</td>\n",
       "    </tr>\n",
       "    <tr>\n",
       "      <th>10</th>\n",
       "      <td>05-07</td>\n",
       "      <td>06-23</td>\n",
       "      <td>12-22</td>\n",
       "      <td>02-14</td>\n",
       "      <td>01-01</td>\n",
       "      <td>01-31</td>\n",
       "      <td>04-04</td>\n",
       "      <td>04-27</td>\n",
       "      <td>05-16</td>\n",
       "      <td>07-31</td>\n",
       "      <td>03-09</td>\n",
       "      <td>09-30</td>\n",
       "      <td>09-12</td>\n",
       "      <td>02-19</td>\n",
       "      <td>08-25</td>\n",
       "      <td>12-04</td>\n",
       "      <td>10-09</td>\n",
       "      <td>05-06</td>\n",
       "      <td>02-10</td>\n",
       "      <td>09-13</td>\n",
       "    </tr>\n",
       "    <tr>\n",
       "      <th>11</th>\n",
       "      <td>11-09</td>\n",
       "      <td>10-21</td>\n",
       "      <td>06-25</td>\n",
       "      <td>02-17</td>\n",
       "      <td>07-13</td>\n",
       "      <td>05-12</td>\n",
       "      <td>08-11</td>\n",
       "      <td>01-30</td>\n",
       "      <td>08-06</td>\n",
       "      <td>03-05</td>\n",
       "      <td>03-15</td>\n",
       "      <td>12-31</td>\n",
       "      <td>08-12</td>\n",
       "      <td>09-28</td>\n",
       "      <td>03-23</td>\n",
       "      <td>11-05</td>\n",
       "      <td>01-20</td>\n",
       "      <td>09-29</td>\n",
       "      <td>11-22</td>\n",
       "      <td>10-16</td>\n",
       "    </tr>\n",
       "    <tr>\n",
       "      <th>12</th>\n",
       "      <td>02-13</td>\n",
       "      <td>01-12</td>\n",
       "      <td>05-01</td>\n",
       "      <td>10-15</td>\n",
       "      <td>06-12</td>\n",
       "      <td>06-20</td>\n",
       "      <td>08-19</td>\n",
       "      <td>11-15</td>\n",
       "      <td>02-05</td>\n",
       "      <td>01-02</td>\n",
       "      <td>09-11</td>\n",
       "      <td>11-20</td>\n",
       "      <td>03-13</td>\n",
       "      <td>12-25</td>\n",
       "      <td>05-04</td>\n",
       "      <td>04-05</td>\n",
       "      <td>04-20</td>\n",
       "      <td>03-24</td>\n",
       "      <td>02-28</td>\n",
       "      <td>12-02</td>\n",
       "    </tr>\n",
       "    <tr>\n",
       "      <th>13</th>\n",
       "      <td>12-11</td>\n",
       "      <td>01-02</td>\n",
       "      <td>10-27</td>\n",
       "      <td>05-03</td>\n",
       "      <td>01-26</td>\n",
       "      <td>04-08</td>\n",
       "      <td>02-02</td>\n",
       "      <td>01-16</td>\n",
       "      <td>11-11</td>\n",
       "      <td>09-23</td>\n",
       "      <td>06-05</td>\n",
       "      <td>10-04</td>\n",
       "      <td>03-17</td>\n",
       "      <td>07-11</td>\n",
       "      <td>12-27</td>\n",
       "      <td>08-06</td>\n",
       "      <td>04-05</td>\n",
       "      <td>02-23</td>\n",
       "      <td>05-06</td>\n",
       "      <td>03-16</td>\n",
       "    </tr>\n",
       "    <tr>\n",
       "      <th>14</th>\n",
       "      <td>05-07</td>\n",
       "      <td>11-27</td>\n",
       "      <td>10-30</td>\n",
       "      <td>07-13</td>\n",
       "      <td>02-28</td>\n",
       "      <td>01-01</td>\n",
       "      <td>05-29</td>\n",
       "      <td>02-04</td>\n",
       "      <td>10-13</td>\n",
       "      <td>03-24</td>\n",
       "      <td>06-18</td>\n",
       "      <td>09-30</td>\n",
       "      <td>08-14</td>\n",
       "      <td>05-29</td>\n",
       "      <td>06-04</td>\n",
       "      <td>09-17</td>\n",
       "      <td>06-12</td>\n",
       "      <td>04-19</td>\n",
       "      <td>05-06</td>\n",
       "      <td>12-05</td>\n",
       "    </tr>\n",
       "    <tr>\n",
       "      <th>15</th>\n",
       "      <td>07-12</td>\n",
       "      <td>04-21</td>\n",
       "      <td>02-06</td>\n",
       "      <td>01-12</td>\n",
       "      <td>12-12</td>\n",
       "      <td>06-09</td>\n",
       "      <td>10-20</td>\n",
       "      <td>05-29</td>\n",
       "      <td>12-02</td>\n",
       "      <td>03-09</td>\n",
       "      <td>02-26</td>\n",
       "      <td>09-29</td>\n",
       "      <td>11-22</td>\n",
       "      <td>05-26</td>\n",
       "      <td>03-22</td>\n",
       "      <td>02-22</td>\n",
       "      <td>06-29</td>\n",
       "      <td>12-15</td>\n",
       "      <td>01-18</td>\n",
       "      <td>07-13</td>\n",
       "    </tr>\n",
       "    <tr>\n",
       "      <th>16</th>\n",
       "      <td>03-29</td>\n",
       "      <td>07-12</td>\n",
       "      <td>01-23</td>\n",
       "      <td>02-27</td>\n",
       "      <td>05-13</td>\n",
       "      <td>11-26</td>\n",
       "      <td>12-21</td>\n",
       "      <td>05-21</td>\n",
       "      <td>03-14</td>\n",
       "      <td>06-25</td>\n",
       "      <td>09-16</td>\n",
       "      <td>12-15</td>\n",
       "      <td>04-23</td>\n",
       "      <td>05-26</td>\n",
       "      <td>07-17</td>\n",
       "      <td>11-24</td>\n",
       "      <td>02-14</td>\n",
       "      <td>10-21</td>\n",
       "      <td>12-01</td>\n",
       "      <td>04-03</td>\n",
       "    </tr>\n",
       "    <tr>\n",
       "      <th>17</th>\n",
       "      <td>05-21</td>\n",
       "      <td>07-17</td>\n",
       "      <td>03-03</td>\n",
       "      <td>04-27</td>\n",
       "      <td>08-23</td>\n",
       "      <td>04-05</td>\n",
       "      <td>12-11</td>\n",
       "      <td>12-07</td>\n",
       "      <td>10-09</td>\n",
       "      <td>06-05</td>\n",
       "      <td>06-11</td>\n",
       "      <td>09-17</td>\n",
       "      <td>03-26</td>\n",
       "      <td>02-01</td>\n",
       "      <td>01-01</td>\n",
       "      <td>11-11</td>\n",
       "      <td>08-19</td>\n",
       "      <td>09-09</td>\n",
       "      <td>01-15</td>\n",
       "      <td>10-03</td>\n",
       "    </tr>\n",
       "    <tr>\n",
       "      <th>18</th>\n",
       "      <td>01-02</td>\n",
       "      <td>03-04</td>\n",
       "      <td>05-19</td>\n",
       "      <td>06-23</td>\n",
       "      <td>08-08</td>\n",
       "      <td>12-23</td>\n",
       "      <td>11-23</td>\n",
       "      <td>05-08</td>\n",
       "      <td>07-09</td>\n",
       "      <td>05-19</td>\n",
       "      <td>02-20</td>\n",
       "      <td>03-24</td>\n",
       "      <td>12-21</td>\n",
       "      <td>11-04</td>\n",
       "      <td>04-05</td>\n",
       "      <td>05-02</td>\n",
       "      <td>05-03</td>\n",
       "      <td>05-02</td>\n",
       "      <td>02-02</td>\n",
       "      <td>03-16</td>\n",
       "    </tr>\n",
       "    <tr>\n",
       "      <th>19</th>\n",
       "      <td>06-10</td>\n",
       "      <td>12-15</td>\n",
       "      <td>03-01</td>\n",
       "      <td>08-08</td>\n",
       "      <td>09-30</td>\n",
       "      <td>04-22</td>\n",
       "      <td>11-09</td>\n",
       "      <td>10-12</td>\n",
       "      <td>10-13</td>\n",
       "      <td>07-26</td>\n",
       "      <td>04-13</td>\n",
       "      <td>05-16</td>\n",
       "      <td>07-25</td>\n",
       "      <td>12-10</td>\n",
       "      <td>10-31</td>\n",
       "      <td>04-07</td>\n",
       "      <td>04-29</td>\n",
       "      <td>02-11</td>\n",
       "      <td>03-05</td>\n",
       "      <td>12-01</td>\n",
       "    </tr>\n",
       "    <tr>\n",
       "      <th>20</th>\n",
       "      <td>03-23</td>\n",
       "      <td>08-27</td>\n",
       "      <td>03-08</td>\n",
       "      <td>01-26</td>\n",
       "      <td>11-13</td>\n",
       "      <td>12-01</td>\n",
       "      <td>01-24</td>\n",
       "      <td>03-03</td>\n",
       "      <td>07-11</td>\n",
       "      <td>07-16</td>\n",
       "      <td>02-21</td>\n",
       "      <td>12-12</td>\n",
       "      <td>05-22</td>\n",
       "      <td>01-07</td>\n",
       "      <td>05-18</td>\n",
       "      <td>11-14</td>\n",
       "      <td>03-22</td>\n",
       "      <td>07-01</td>\n",
       "      <td>12-04</td>\n",
       "      <td>04-22</td>\n",
       "    </tr>\n",
       "    <tr>\n",
       "      <th>21</th>\n",
       "      <td>05-10</td>\n",
       "      <td>02-20</td>\n",
       "      <td>12-09</td>\n",
       "      <td>11-25</td>\n",
       "      <td>07-14</td>\n",
       "      <td>08-19</td>\n",
       "      <td>02-14</td>\n",
       "      <td>06-05</td>\n",
       "      <td>10-22</td>\n",
       "      <td>09-02</td>\n",
       "      <td>11-18</td>\n",
       "      <td>03-15</td>\n",
       "      <td>07-29</td>\n",
       "      <td>08-08</td>\n",
       "      <td>05-04</td>\n",
       "      <td>01-26</td>\n",
       "      <td>04-25</td>\n",
       "      <td>06-09</td>\n",
       "      <td>10-02</td>\n",
       "      <td>05-28</td>\n",
       "    </tr>\n",
       "  </tbody>\n",
       "</table>\n",
       "</div>"
      ],
      "text/plain": [
       "    06-20  11-23  09-06  07-31  01-27  03-11  05-05  04-21  12-16  10-15  \\\n",
       "0   09-20  11-03  06-02  03-08  06-11  08-27  09-07  11-21  12-16  04-30   \n",
       "1   01-01  07-15  08-26  09-16  02-14  06-06  11-01  04-23  04-20  09-10   \n",
       "2   05-11  01-21  02-07  10-20  07-08  06-03  05-13  09-17  12-11  08-24   \n",
       "3   04-26  09-10  01-22  05-07  06-15  10-01  12-28  02-01  06-18  09-27   \n",
       "4   01-13  08-29  02-21  05-02  08-30  12-09  02-18  09-03  05-15  06-01   \n",
       "5   07-09  12-15  04-03  05-07  08-09  01-07  08-10  05-19  07-17  03-21   \n",
       "6   03-23  05-07  02-14  11-29  11-17  01-05  04-22  12-02  07-31  06-26   \n",
       "7   06-21  01-01  04-30  05-30  11-24  12-25  10-03  01-20  04-19  04-12   \n",
       "8   01-07  10-14  09-30  02-02  07-17  09-13  07-03  02-26  12-12  10-31   \n",
       "9   07-13  04-12  04-05  05-28  01-22  12-21  03-21  04-15  10-27  05-05   \n",
       "10  05-07  06-23  12-22  02-14  01-01  01-31  04-04  04-27  05-16  07-31   \n",
       "11  11-09  10-21  06-25  02-17  07-13  05-12  08-11  01-30  08-06  03-05   \n",
       "12  02-13  01-12  05-01  10-15  06-12  06-20  08-19  11-15  02-05  01-02   \n",
       "13  12-11  01-02  10-27  05-03  01-26  04-08  02-02  01-16  11-11  09-23   \n",
       "14  05-07  11-27  10-30  07-13  02-28  01-01  05-29  02-04  10-13  03-24   \n",
       "15  07-12  04-21  02-06  01-12  12-12  06-09  10-20  05-29  12-02  03-09   \n",
       "16  03-29  07-12  01-23  02-27  05-13  11-26  12-21  05-21  03-14  06-25   \n",
       "17  05-21  07-17  03-03  04-27  08-23  04-05  12-11  12-07  10-09  06-05   \n",
       "18  01-02  03-04  05-19  06-23  08-08  12-23  11-23  05-08  07-09  05-19   \n",
       "19  06-10  12-15  03-01  08-08  09-30  04-22  11-09  10-12  10-13  07-26   \n",
       "20  03-23  08-27  03-08  01-26  11-13  12-01  01-24  03-03  07-11  07-16   \n",
       "21  05-10  02-20  12-09  11-25  07-14  08-19  02-14  06-05  10-22  09-02   \n",
       "\n",
       "    02-04  03-08  11-10  12-21  08-26  05-13  09-21  06-14  02-18  11-28  \n",
       "0   08-09  03-31  07-22  02-03  08-19  01-10  10-06  10-20  05-14  10-09  \n",
       "1   03-17  08-13  11-11  12-11  01-22  08-08  06-30  07-31  04-07  10-02  \n",
       "2   04-22  04-01  11-15  06-10  03-24  12-16  07-13  11-30  01-07  08-13  \n",
       "3   03-15  04-10  11-06  07-13  10-08  08-23  06-01  04-29  01-15  12-12  \n",
       "4   03-27  04-12  11-24  07-29  01-08  12-11  09-08  03-20  07-31  02-23  \n",
       "5   12-31  02-28  06-17  09-22  02-14  08-15  11-17  12-01  04-29  04-04  \n",
       "6   12-06  07-14  08-31  05-26  02-22  04-05  08-28  11-01  01-20  07-27  \n",
       "7   05-18  09-26  09-16  03-01  08-16  07-04  05-25  12-01  01-12  02-15  \n",
       "8   04-24  09-09  12-01  06-17  07-09  04-13  02-19  07-07  08-29  11-12  \n",
       "9   09-13  05-30  06-18  11-09  02-08  12-26  08-31  05-09  01-02  01-14  \n",
       "10  03-09  09-30  09-12  02-19  08-25  12-04  10-09  05-06  02-10  09-13  \n",
       "11  03-15  12-31  08-12  09-28  03-23  11-05  01-20  09-29  11-22  10-16  \n",
       "12  09-11  11-20  03-13  12-25  05-04  04-05  04-20  03-24  02-28  12-02  \n",
       "13  06-05  10-04  03-17  07-11  12-27  08-06  04-05  02-23  05-06  03-16  \n",
       "14  06-18  09-30  08-14  05-29  06-04  09-17  06-12  04-19  05-06  12-05  \n",
       "15  02-26  09-29  11-22  05-26  03-22  02-22  06-29  12-15  01-18  07-13  \n",
       "16  09-16  12-15  04-23  05-26  07-17  11-24  02-14  10-21  12-01  04-03  \n",
       "17  06-11  09-17  03-26  02-01  01-01  11-11  08-19  09-09  01-15  10-03  \n",
       "18  02-20  03-24  12-21  11-04  04-05  05-02  05-03  05-02  02-02  03-16  \n",
       "19  04-13  05-16  07-25  12-10  10-31  04-07  04-29  02-11  03-05  12-01  \n",
       "20  02-21  12-12  05-22  01-07  05-18  11-14  03-22  07-01  12-04  04-22  \n",
       "21  11-18  03-15  07-29  08-08  05-04  01-26  04-25  06-09  10-02  05-28  "
      ]
     },
     "execution_count": 279,
     "metadata": {},
     "output_type": "execute_result"
    }
   ],
   "source": [
    "pd.read_csv(\"random-date-experiment-results-anonymized.csv\")\n",
    "    \n",
    "    "
   ]
  },
  {
   "cell_type": "code",
   "execution_count": 277,
   "metadata": {},
   "outputs": [
    {
     "name": "stdout",
     "output_type": "stream",
     "text": [
      "[28.  3. 23. 10. 20. 12. 10. 22.  3. 22.  7. 20. 27. 25. 19. 20. 26. 19.\n",
      " 10.  3.]\n",
      "23\n"
     ]
    }
   ],
   "source": [
    "#Create list of class dates for each student \n",
    "randomDateCompSplit=[randomDateComputer[x:x+20] for x in range(0, len(randomDateComputer), 20)]\n",
    "monthListCompSplit=[monthListComputer[x:x+20] for x in range(0, len(monthListComputer), 20)]\n",
    "dayListCompSplit=[dayListComputer[x:x+20] for x in range(0, len(dayListComputer), 20)]\n",
    "dateListClassStudent=[dateListClass[x:x+20] for x in range(0, len(dateListClass), 20)]\n",
    "monthListClassStudent=[monthListClass[x:x+20] for x in range(0, len(dateListClass), 20)]\n",
    "dayListClassStudent=[dayListClass[x:x+20] for x in range(0, len(dateListClass), 20)]\n",
    "print((dayListCompSplit[0]))\n",
    "print(len(dayListClassStudent))\n",
    "    \n",
    "    "
   ]
  },
  {
   "cell_type": "code",
   "execution_count": 258,
   "metadata": {},
   "outputs": [
    {
     "data": {
      "image/png": "[encoded data removed]",
      "text/plain": [
       "<Figure size 432x288 with 1 Axes>"
      ]
     },
     "metadata": {
      "needs_background": "light"
     },
     "output_type": "display_data"
    }
   ],
   "source": [
    "#Frequencies of extreme months in the class dataset\n",
    "histClassMonth=plt.hist(monthListClass, bins = 12)"
   ]
  },
  {
   "cell_type": "code",
   "execution_count": 259,
   "metadata": {},
   "outputs": [
    {
     "data": {
      "image/png": "[encoded data removed]",
      "text/plain": [
       "<Figure size 432x288 with 1 Axes>"
      ]
     },
     "metadata": {
      "needs_background": "light"
     },
     "output_type": "display_data"
    }
   ],
   "source": [
    "#Frequencies of extreme days in the class dataset\n",
    "histCompMonth=plt.hist(monthListComputer, bins = 12)"
   ]
  },
  {
   "cell_type": "code",
   "execution_count": 260,
   "metadata": {},
   "outputs": [
    {
     "data": {
      "image/png": "[encoded data removed]",
      "text/plain": [
       "<Figure size 432x288 with 1 Axes>"
      ]
     },
     "metadata": {
      "needs_background": "light"
     },
     "output_type": "display_data"
    }
   ],
   "source": [
    "histClassDay=plt.hist(dayListClass, bins = 31)"
   ]
  },
  {
   "cell_type": "code",
   "execution_count": 261,
   "metadata": {},
   "outputs": [
    {
     "data": {
      "image/png": "[encoded data removed]",
      "text/plain": [
       "<Figure size 432x288 with 1 Axes>"
      ]
     },
     "metadata": {
      "needs_background": "light"
     },
     "output_type": "display_data"
    }
   ],
   "source": [
    "histCompDay=plt.hist(dayListComputer, bins = 31)"
   ]
  },
  {
   "cell_type": "code",
   "execution_count": 263,
   "metadata": {},
   "outputs": [
    {
     "name": "stdout",
     "output_type": "stream",
     "text": [
      "Power_divergenceResult(statistic=72.47880825315035, pvalue=2.2433115698514913e-05)\n",
      "Power_divergenceResult(statistic=64.89017340024816, pvalue=1.1301144065713537e-09)\n"
     ]
    }
   ],
   "source": [
    "#Calculate significance of distribution differences \n",
    "print(stats.chisquare(histClassDay[0],histCompDay[0]))\n",
    "print(stats.chisquare(histClassMonth[0],histCompMonth[0]))"
   ]
  },
  {
   "cell_type": "code",
   "execution_count": 170,
   "metadata": {},
   "outputs": [
    {
     "name": "stdout",
     "output_type": "stream",
     "text": [
      "0\n",
      "1\n",
      "2\n",
      "3\n",
      "4\n",
      "5\n"
     ]
    }
   ],
   "source": [
    "#Frequencies of \"empty\" months within each 20 date list\n",
    "\n",
    "#Generate 100000 lists of 20 random dates\n",
    "emptyMonthGeneratedList=[]\n",
    "for i in range(1, 100000, 1):\n",
    "    emptyMonthGeneratedList.append(np.random.randint(1, 13, 20))\n",
    "k =[0,1,2,3,4,5]\n",
    "emptyListClass=[]\n",
    "emptyListGen=[]\n",
    "def checkEmptyMonth(ls, kval):\n",
    "    counter = 0\n",
    "    for i in range(1,13,1):\n",
    "        if(i not in ls):\n",
    "            counter+=1\n",
    "    if (counter == kval):\n",
    "        return True\n",
    "    else:\n",
    "        return False\n",
    "for i in range(0,len(k),1):\n",
    "    print(k[i])\n",
    "    #Probability that a list in the generated list has an empty month:\n",
    "    emptyMonths=0\n",
    "    for x in emptyMonthGeneratedList:\n",
    "        if(checkEmptyMonth(x, k[i])):\n",
    "            emptyMonths+=1\n",
    "    emptyListGen.append(emptyMonths/len(emptyMonthGeneratedList))\n",
    "\n",
    "    #Probability that a list in the class list has an empty month:\n",
    "    emptyMonths=0\n",
    "    for x in monthListClassStudent:\n",
    "        if(checkEmptyMonth(x,k[i])):\n",
    "            emptyMonths+=1\n",
    "    emptyListClass.append(emptyMonths/len(monthListClassStudent))\n",
    "    \n",
    "\n",
    "        \n",
    "    "
   ]
  },
  {
   "cell_type": "code",
   "execution_count": 267,
   "metadata": {},
   "outputs": [
    {
     "name": "stdout",
     "output_type": "stream",
     "text": [
      "[0, 1, 2, 3, 4, 5]\n",
      "[1e-18, 0.17391304347826086, 0.30434782608695654, 0.2608695652173913, 0.13043478260869565, 0.13043478260869565]\n",
      "[0.051740517405174054, 0.23932239322393223, 0.36884368843688436, 0.24763247632476323, 0.07920079200792007, 0.012350123501235013]\n"
     ]
    },
    {
     "data": {
      "image/png": "[encoded data removed]",
      "text/plain": [
       "<Figure size 432x288 with 1 Axes>"
      ]
     },
     "metadata": {
      "needs_background": "light"
     },
     "output_type": "display_data"
    },
    {
     "name": "stdout",
     "output_type": "stream",
     "text": [
      "Power_divergenceResult(statistic=1.2438019710619117, pvalue=0.9406067781380856)\n"
     ]
    }
   ],
   "source": [
    "print(k)\n",
    "print(emptyListClass)\n",
    "print(emptyListGen)\n",
    "plt.bar(np.array(k)-0.15, emptyListClass , width = 0.3, label ='Class Generated')\n",
    "plt.bar(np.array(k)+0.15, emptyListGen , width = 0.3, label = 'Computer Generated')\n",
    "#Blue is class gen\n",
    "#Orange is computer gen\n",
    "#setting the xticks. Note x1 and x2 are tuples, thus + is concatenation\n",
    "plt.xticks(k) \n",
    "plt.show()\n",
    "emptyListClass[0]=0.000000000000000001\n",
    "print(stats.chisquare(emptyListClass,emptyListGen))"
   ]
  },
  {
   "cell_type": "code",
   "execution_count": 268,
   "metadata": {},
   "outputs": [
    {
     "name": "stdout",
     "output_type": "stream",
     "text": [
      "[ 8  4 22 10 16 23 17 26  8 12 29 10  7  5  8 11 10 21 27  2]\n",
      "14.431924319243192\n",
      "14.695652173913043\n"
     ]
    }
   ],
   "source": [
    "#Number of distinct days within a 20 date list. \n",
    "#Generate a chisquare/p-value for this \n",
    "DayGeneratedList=[]\n",
    "for i in range(1, 100000, 1):\n",
    "    DayGeneratedList.append(np.random.randint(1, 32, 20))\n",
    "print(DayGeneratedList[0])\n",
    "\n",
    "#Find number of distinct days in generated sample\n",
    "distinctDayListGenerated=[]\n",
    "dayCounter=0\n",
    "for i in DayGeneratedList:\n",
    "    dayCounter=0\n",
    "    for x in range(1,31,1):\n",
    "        if(x in i):\n",
    "            dayCounter += 1\n",
    "    distinctDayListGenerated.append(dayCounter)\n",
    "print(sum(distinctDayListGenerated)/len(distinctDayListGenerated))\n",
    "\n",
    "#Find number of distinct days in class sample\n",
    "distinctDayListClass=[]\n",
    "for i in dayListClassStudent:\n",
    "    dayCounter=0\n",
    "    for x in range(1,31,1):\n",
    "        if(x in i):\n",
    "            dayCounter += 1\n",
    "    distinctDayListClass.append(dayCounter)\n",
    "print(sum(distinctDayListClass)/len(distinctDayListClass))"
   ]
  },
  {
   "cell_type": "code",
   "execution_count": 269,
   "metadata": {},
   "outputs": [
    {
     "name": "stdout",
     "output_type": "stream",
     "text": [
      "23\n",
      "Ttest_indResult(statistic=0.6638671117848532, pvalue=0.5102392233104763)\n"
     ]
    },
    {
     "data": {
      "text/plain": [
       "[<matplotlib.lines.Line2D at 0x7f8c5d395f10>]"
      ]
     },
     "execution_count": 269,
     "metadata": {},
     "output_type": "execute_result"
    },
    {
     "data": {
      "image/png": "[encoded data removed]",
      "text/plain": [
       "<Figure size 432x288 with 1 Axes>"
      ]
     },
     "metadata": {
      "needs_background": "light"
     },
     "output_type": "display_data"
    }
   ],
   "source": [
    "print(len(distinctDayListGenerated[0:len(distinctDayListClass)]))\n",
    "print(stats.ttest_ind(distinctDayListClass, distinctDayListGenerated[0:len(distinctDayListClass)]))\n",
    "students = range(0,len(distinctDayListClass))\n",
    "plt.plot(students, distinctDayListGenerated[0:len(distinctDayListClass)])\n",
    "plt.plot(students, distinctDayListClass)\n",
    "#Blue is generated\n",
    "#Orange is class"
   ]
  },
  {
   "cell_type": "code",
   "execution_count": 273,
   "metadata": {},
   "outputs": [
    {
     "name": "stdout",
     "output_type": "stream",
     "text": [
      "0.4782608695652174\n",
      "0.4126\n"
     ]
    }
   ],
   "source": [
    "#Frequencies of repeated dates\n",
    "def dateRepeated(ls):\n",
    "    return any(ls.count(i) > 1 for i in ls)\n",
    "def dateAdjacent(ls):\n",
    "    for i in range(0,len(ls) - 1,1):\n",
    "        if (ls[i]==ls[i+1]):\n",
    "            return True\n",
    "    return False\n",
    "#find repeated dates in class\n",
    "repeated=0\n",
    "repeatedListClass=[]\n",
    "for i in dateListClassStudent:\n",
    "    if(dateRepeated(i)):\n",
    "        repeated +=1\n",
    "    repeatedListClass.append(repeated)\n",
    "print(float(repeated/len(dateListClassStudent)))\n",
    "\n",
    "#find repeated dates in generated\n",
    "repeatedComp=0\n",
    "repeatedListComp=[]\n",
    "for i in randomDateCompSplit:\n",
    "    if(dateRepeated(i)):\n",
    "        repeatedComp+=1\n",
    "    repeatedListComp.append(repeatedComp)\n",
    "print(float(repeatedComp/len(randomDateCompSplit)))\n"
   ]
  },
  {
   "cell_type": "code",
   "execution_count": 274,
   "metadata": {},
   "outputs": [
    {
     "name": "stdout",
     "output_type": "stream",
     "text": [
      "0.13043478260869565\n",
      "0.0474\n"
     ]
    }
   ],
   "source": [
    "#Find adjacent frequencies \n",
    "#find adjacent dates in class\n",
    "repeated=0\n",
    "repeatedListClass=[]\n",
    "for i in dateListClassStudent:\n",
    "    if(dateAdjacent(i)):\n",
    "        repeated +=1\n",
    "    repeatedListClass.append(repeated)\n",
    "print(float(repeated/len(dateListClassStudent)))\n",
    "\n",
    "#find adjacent dates in generated\n",
    "repeatedComp=0\n",
    "repeatedListComp=[]\n",
    "for i in randomDateCompSplit:\n",
    "    if(dateAdjacent(i)):\n",
    "        repeatedComp+=1\n",
    "    repeatedListComp.append(repeatedComp)\n",
    "print(float(repeatedComp/len(randomDateCompSplit)))"
   ]
  },
  {
   "cell_type": "code",
   "execution_count": 210,
   "metadata": {},
   "outputs": [],
   "source": [
    "randomDayComputer=[]\n",
    "randomMonthComputer=[]\n",
    "for i in range(0,100000):\n",
    "    randomMonthComputer.append(generateDate()[0])\n",
    "    randomDayComputer.append(generateDate()[1])"
   ]
  },
  {
   "cell_type": "code",
   "execution_count": 234,
   "metadata": {},
   "outputs": [
    {
     "name": "stdout",
     "output_type": "stream",
     "text": [
      "[1. 1. 0. 0. 1. 1. 0. 1. 0. 0. 0. 0. 0. 1. 0. 3. 0. 0. 0. 2. 3. 1. 0. 2.\n",
      " 0. 2. 0. 0. 0. 0. 1.]\n",
      "[22. 15. 12. 15. 18. 19. 14. 13. 14. 12. 18. 16. 23. 19. 14. 12. 12. 20.\n",
      " 16. 14. 19. 15. 13. 14.  9. 11. 16.  8. 17. 13.  7.]\n",
      "Ttest_indResult(statistic=-20.330320879263077, pvalue=1.3468403218310104e-28)\n"
     ]
    },
    {
     "data": {
      "image/png": "[encoded data removed]",
      "text/plain": [
       "<Figure size 432x288 with 1 Axes>"
      ]
     },
     "metadata": {
      "needs_background": "light"
     },
     "output_type": "display_data"
    }
   ],
   "source": [
    "plt.hist(randomDayComputer, bins = 31)\n",
    "#Cluster params\n",
    "#P value day\n",
    "#P value month \n",
    "#Generate random values\n",
    "print(plt.hist(dayListCompSplit[3],bins=31)[0])\n",
    "print(histCompDay[0])\n",
    "print(stats.ttest_ind(plt.hist(dayListCompSplit[3],bins=31)[0],histCompDay[0]))\n"
   ]
  },
  {
   "cell_type": "code",
   "execution_count": 212,
   "metadata": {},
   "outputs": [
    {
     "data": {
      "text/plain": [
       "(array([8897., 8269., 8876., 8659., 8962., 8461., 8960., 8733., 8579.,\n",
       "        8725., 8638., 4241.]),\n",
       " array([ 1.        ,  1.91666667,  2.83333333,  3.75      ,  4.66666667,\n",
       "         5.58333333,  6.5       ,  7.41666667,  8.33333333,  9.25      ,\n",
       "        10.16666667, 11.08333333, 12.        ]),\n",
       " <a list of 12 Patch objects>)"
      ]
     },
     "execution_count": 212,
     "metadata": {},
     "output_type": "execute_result"
    },
    {
     "data": {
      "image/png": "[encoded data removed]",
      "text/plain": [
       "<Figure size 432x288 with 1 Axes>"
      ]
     },
     "metadata": {
      "needs_background": "light"
     },
     "output_type": "display_data"
    }
   ],
   "source": [
    "plt.hist(randomMonthComputer, bins = 12)"
   ]
  },
  {
   "cell_type": "code",
   "execution_count": null,
   "metadata": {},
   "outputs": [],
   "source": []
  }
 ],
 "metadata": {
  "kernelspec": {
   "display_name": "Python 3",
   "language": "python",
   "name": "python3"
  },
  "language_info": {
   "codemirror_mode": {
    "name": "ipython",
    "version": 3
   },
   "file_extension": ".py",
   "mimetype": "text/x-python",
   "name": "python",
   "nbconvert_exporter": "python",
   "pygments_lexer": "ipython3",
   "version": "3.8.3"
  }
 },
 "nbformat": 4,
 "nbformat_minor": 4
}
